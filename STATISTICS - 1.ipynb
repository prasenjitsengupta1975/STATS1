{
 "cells": [
  {
   "cell_type": "code",
   "execution_count": 17,
   "metadata": {},
   "outputs": [
    {
     "name": "stdout",
     "output_type": "stream",
     "text": [
      "Calculation using custom method\n",
      "Mean 1158.3333333333333\n",
      "variance 135416.6666666667\n",
      "std_dev 367.99003609699366\n",
      "Calculation using statistics library\n",
      "Mean 1158.3333333333333\n",
      "Variance 135416.66666666666\n",
      "std_dev 367.9900360969936\n"
     ]
    }
   ],
   "source": [
    "#You survey households in your area to find the average rent they are paying. Find the\n",
    "#standard deviation from the following data:\n",
    "#$1550,$1700,$900,$850,$1000,$950.\n",
    "\n",
    "\n",
    "arr = [1550,1700,900,850,1000,950]\n",
    "\n",
    "def find_mean(arr):\n",
    " return sum(arr)/len(arr)\n",
    "\n",
    "def find_variance(arr):\n",
    " variance = 0.0\n",
    " from math import sqrt\n",
    " \n",
    " mean = find_mean(arr)\n",
    " variance = sum((x - mean)**2 for x in arr) / (len(arr)-1)\n",
    " return variance\n",
    "\n",
    "def find_std_dev(arr):\n",
    " return find_variance(arr)**0.5\n",
    "\n",
    "\n",
    "\n",
    "print(\"Calculation using custom method\")\n",
    "print (\"Mean \" + str(find_mean(arr)))\n",
    "print (\"variance \" + str(find_variance(arr)))\n",
    "print(\"std_dev \" + str(find_std_dev(arr)))\n",
    "\n",
    "print(\"Calculation using statistics library\")\n",
    "import statistics as stat\n",
    "print(str(\"Mean \" + str(stat.mean(arr))))\n",
    "print(str(\"Variance \" + str(stat.variance(arr))))\n",
    "print(str(\"std_dev \" + str(stat.stdev(arr))))\n"
   ]
  },
  {
   "cell_type": "code",
   "execution_count": 23,
   "metadata": {
    "scrolled": true
   },
   "outputs": [
    {
     "name": "stdout",
     "output_type": "stream",
     "text": [
      "variance 6219.9\n"
     ]
    }
   ],
   "source": [
    "#Find the variance for the following set of data representing trees in California (heights in\n",
    "#feet):\n",
    "\n",
    "arr = [3, 21, 98, 203, 17, 9]\n",
    "def find_mean(arr):\n",
    " return sum(arr)/len(arr)\n",
    "\n",
    "def find_variance(arr):\n",
    " variance = 0.0\n",
    " from math import sqrt\n",
    " \n",
    " mean = find_mean(arr)\n",
    " variance = sum((x - mean)**2 for x in arr) / (len(arr)-1)\n",
    " return variance\n",
    "\n",
    "\n",
    "print (\"variance \" + str(find_variance(arr)))\n"
   ]
  },
  {
   "cell_type": "code",
   "execution_count": null,
   "metadata": {},
   "outputs": [],
   "source": [
    "#in a class on 100 students, 80 students passed in all subjects, \n",
    "#10 failed in one subject, 7 failed in two subjects and 3 failed in three subjects. \n",
    "#Find the probability distribution of the variable for number of subjects a student from the given class has failed in."
   ]
  },
  {
   "cell_type": "code",
   "execution_count": 33,
   "metadata": {},
   "outputs": [
    {
     "name": "stdout",
     "output_type": "stream",
     "text": [
      "probability of failing in 0 subjects 0.8\n",
      "Probability of failling in 1 subject 0.01\n",
      "Probability of failling in 2 subject 0.02\n",
      "Probability of failling in 3 subject 0.03\n"
     ]
    }
   ],
   "source": [
    "ns = 100\n",
    "def find_prob(students):\n",
    "    p = students/ns\n",
    "    return p\n",
    "print(\"probability of failing in 0 subjects \" + str(find_prob(80)))\n",
    "print(\"Probability of failling in 1 subject \" + str(find_prob(1)))\n",
    "print(\"Probability of failling in 2 subject \" + str(find_prob(2)))\n",
    "print(\"Probability of failling in 3 subject \" + str(find_prob(3)))"
   ]
  }
 ],
 "metadata": {
  "kernelspec": {
   "display_name": "Python 3",
   "language": "python",
   "name": "python3"
  },
  "language_info": {
   "codemirror_mode": {
    "name": "ipython",
    "version": 3
   },
   "file_extension": ".py",
   "mimetype": "text/x-python",
   "name": "python",
   "nbconvert_exporter": "python",
   "pygments_lexer": "ipython3",
   "version": "3.6.5"
  }
 },
 "nbformat": 4,
 "nbformat_minor": 2
}
